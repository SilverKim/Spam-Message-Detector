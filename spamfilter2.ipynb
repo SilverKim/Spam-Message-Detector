{
  "cells": [
    {
      "cell_type": "markdown",
      "metadata": {
        "id": "L-yNNRzPTWDw"
      },
      "source": [
        "# URL that is helpful"
      ]
    },
    {
      "cell_type": "code",
      "execution_count": 1,
      "metadata": {
        "colab": {
          "base_uri": "https://localhost:8080/"
        },
        "id": "O0CKy20OTtH6",
        "outputId": "5f4ec713-b534-4bec-d157-222ec009f67a"
      },
      "outputs": [
        {
          "output_type": "stream",
          "name": "stdout",
          "text": [
            "Drive already mounted at /content/drive; to attempt to forcibly remount, call drive.mount(\"/content/drive\", force_remount=True).\n"
          ]
        }
      ],
      "source": [
        "from google.colab import drive\n",
        "drive.mount('/content/drive')"
      ]
    },
    {
      "cell_type": "code",
      "execution_count": 2,
      "metadata": {
        "id": "7E4CO6dfbQ1_"
      },
      "outputs": [],
      "source": [
        "import zipfile as z\n",
        "\n",
        "files = z.ZipFile(\"drive/MyDrive/Temp/data.zip\",'r')\n",
        "files.extractall()\n",
        "files.close()"
      ]
    },
    {
      "cell_type": "markdown",
      "metadata": {
        "id": "qA64QyG4TWDy"
      },
      "source": [
        "1. [Preprocessing Technique](https://medium.com/@datamonsters/text-preprocessing-in-python-steps-tools-and-examples-bf025f872908)\n",
        "2. [Convert text into features](https://machinelearningmastery.com/prepare-text-data-machine-learning-scikit-learn/)\n",
        "3. [Using word embedding](https://towardsdatascience.com/word-embeddings-exploration-explanation-and-exploitation-with-code-in-python-5dac99d5d795)"
      ]
    },
    {
      "cell_type": "markdown",
      "metadata": {
        "id": "P6eo_Jz8TWDz"
      },
      "source": [
        "# Download all the dependencies"
      ]
    },
    {
      "cell_type": "code",
      "execution_count": 3,
      "metadata": {
        "id": "x0cIn0p8TWD0"
      },
      "outputs": [],
      "source": [
        "import nltk"
      ]
    },
    {
      "cell_type": "markdown",
      "metadata": {
        "id": "fMmhIFHlTWD1"
      },
      "source": [
        "# Start Coding"
      ]
    },
    {
      "cell_type": "code",
      "execution_count": 4,
      "metadata": {
        "id": "xubTJElTTWD1"
      },
      "outputs": [],
      "source": [
        "import os\n",
        "import glob\n",
        "import numpy as np\n",
        "import email"
      ]
    },
    {
      "cell_type": "code",
      "execution_count": 5,
      "metadata": {
        "id": "QPPfDBNjTWD1"
      },
      "outputs": [],
      "source": [
        "path = 'data/'"
      ]
    },
    {
      "cell_type": "code",
      "execution_count": 6,
      "metadata": {
        "id": "KeO4IHtYTWD2"
      },
      "outputs": [],
      "source": [
        "easy_ham_paths = glob.glob(path+'easy_ham/*')\n",
        "easy_ham_2_paths = glob.glob(path+'easy_ham_2/*')\n",
        "hard_ham_paths = glob.glob(path+'hard_ham/*')\n",
        "spam_paths = glob.glob(path+'spam/*')\n",
        "spam_2_paths = glob.glob(path+'spam_2/*')"
      ]
    },
    {
      "cell_type": "code",
      "execution_count": 7,
      "metadata": {
        "id": "QzRtlTGETWD2"
      },
      "outputs": [],
      "source": [
        "def get_email_content(email_path):\n",
        "    file = open(email_path,encoding='latin1')\n",
        "    try:\n",
        "        msg = email.message_from_file(file)\n",
        "        for part in msg.walk():\n",
        "            if part.get_content_type() == 'text/plain':\n",
        "                return part.get_payload() # prints the raw text\n",
        "    except Exception as e:\n",
        "        print(e)\n",
        "        \n",
        "        \n",
        "def get_email_content_bulk(email_paths):\n",
        "    email_contents = [get_email_content(o) for o in email_paths]\n",
        "    return email_contents"
      ]
    },
    {
      "cell_type": "markdown",
      "metadata": {
        "id": "ap5inE5LTWD3"
      },
      "source": [
        "# Split data into train/test"
      ]
    },
    {
      "cell_type": "code",
      "execution_count": 8,
      "metadata": {
        "id": "YrSihP8jTWD3"
      },
      "outputs": [],
      "source": [
        "from sklearn.model_selection import train_test_split"
      ]
    },
    {
      "cell_type": "code",
      "execution_count": 9,
      "metadata": {
        "id": "aDUKx4Y5TWD3"
      },
      "outputs": [],
      "source": [
        "ham_path = [\n",
        "    easy_ham_paths,\n",
        "    easy_ham_2_paths,\n",
        "    hard_ham_paths\n",
        "]\n",
        "\n",
        "spam_path = [\n",
        "    spam_paths,\n",
        "    spam_2_paths\n",
        "]"
      ]
    },
    {
      "cell_type": "code",
      "execution_count": 10,
      "metadata": {
        "colab": {
          "base_uri": "https://localhost:8080/"
        },
        "id": "1A10ge5mTWD4",
        "outputId": "7fd429cc-4098-4373-94c4-6cb13c4ab289"
      },
      "outputs": [
        {
          "output_type": "stream",
          "name": "stderr",
          "text": [
            "<ipython-input-10-4eb9ce232b77>:1: VisibleDeprecationWarning: Creating an ndarray from ragged nested sequences (which is a list-or-tuple of lists-or-tuples-or ndarrays with different lengths or shapes) is deprecated. If you meant to do this, you must specify 'dtype=object' when creating the ndarray.\n",
            "  ham_sample = np.array([train_test_split(o) for o in ham_path])\n"
          ]
        }
      ],
      "source": [
        "ham_sample = np.array([train_test_split(o) for o in ham_path])"
      ]
    },
    {
      "cell_type": "code",
      "execution_count": 11,
      "metadata": {
        "id": "gEyTo9p_TWD5"
      },
      "outputs": [],
      "source": [
        "ham_train = np.array([])\n",
        "ham_test = np.array([])\n",
        "for o in ham_sample:\n",
        "    ham_train = np.concatenate((ham_train,o[0]),axis=0)\n",
        "    ham_test = np.concatenate((ham_test,o[1]),axis=0)"
      ]
    },
    {
      "cell_type": "code",
      "execution_count": 12,
      "metadata": {
        "colab": {
          "base_uri": "https://localhost:8080/"
        },
        "id": "AOaEFOUNTWD6",
        "outputId": "388ca51c-2a13-41f9-bb18-490f26bb74e4"
      },
      "outputs": [
        {
          "output_type": "execute_result",
          "data": {
            "text/plain": [
              "((3938,), (1315,))"
            ]
          },
          "metadata": {},
          "execution_count": 12
        }
      ],
      "source": [
        "ham_train.shape, ham_test.shape"
      ]
    },
    {
      "cell_type": "code",
      "execution_count": 13,
      "metadata": {
        "colab": {
          "base_uri": "https://localhost:8080/"
        },
        "id": "CD1jBTerTWD6",
        "outputId": "8820257d-76fb-4452-9793-348cb1dbee77"
      },
      "outputs": [
        {
          "output_type": "stream",
          "name": "stderr",
          "text": [
            "<ipython-input-13-760e87a3aeb2>:1: VisibleDeprecationWarning: Creating an ndarray from ragged nested sequences (which is a list-or-tuple of lists-or-tuples-or ndarrays with different lengths or shapes) is deprecated. If you meant to do this, you must specify 'dtype=object' when creating the ndarray.\n",
            "  spam_sample = np.array([train_test_split(o) for o in spam_path])\n"
          ]
        }
      ],
      "source": [
        "spam_sample = np.array([train_test_split(o) for o in spam_path])"
      ]
    },
    {
      "cell_type": "code",
      "execution_count": 14,
      "metadata": {
        "id": "iGtZ53uUTWD6"
      },
      "outputs": [],
      "source": [
        "spam_train = np.array([])\n",
        "spam_test = np.array([])\n",
        "for o in spam_sample:\n",
        "    spam_train = np.concatenate((spam_train,o[0]),axis=0)\n",
        "    spam_test = np.concatenate((spam_test,o[1]),axis=0)"
      ]
    },
    {
      "cell_type": "code",
      "execution_count": 15,
      "metadata": {
        "colab": {
          "base_uri": "https://localhost:8080/"
        },
        "id": "F0I7wxyLTWD7",
        "outputId": "4342debc-54c7-4615-b33b-0d274801ebdf"
      },
      "outputs": [
        {
          "output_type": "execute_result",
          "data": {
            "text/plain": [
              "((1422,), (476,))"
            ]
          },
          "metadata": {},
          "execution_count": 15
        }
      ],
      "source": [
        "spam_train.shape, spam_test.shape"
      ]
    },
    {
      "cell_type": "code",
      "execution_count": 16,
      "metadata": {
        "id": "tpzUQUvxTWD7"
      },
      "outputs": [],
      "source": [
        "ham_train_label = [0]*ham_train.shape[0]\n",
        "spam_train_label = [1]*spam_train.shape[0]\n",
        "x_train = np.concatenate((ham_train,spam_train))\n",
        "y_train = np.concatenate((ham_train_label,spam_train_label))"
      ]
    },
    {
      "cell_type": "code",
      "execution_count": 17,
      "metadata": {
        "id": "hHBbJv6pTWD7"
      },
      "outputs": [],
      "source": [
        "ham_test_label = [0]*ham_test.shape[0]\n",
        "spam_test_label = [1]*spam_test.shape[0]\n",
        "x_test = np.concatenate((ham_test,spam_test))\n",
        "y_test = np.concatenate((ham_test_label,spam_test_label))"
      ]
    },
    {
      "cell_type": "code",
      "execution_count": 18,
      "metadata": {
        "id": "Wnn4AYzZTWD7"
      },
      "outputs": [],
      "source": [
        "train_shuffle_index = np.random.permutation(np.arange(0,x_train.shape[0]))\n",
        "test_shuffle_index = np.random.permutation(np.arange(0,x_test.shape[0]))"
      ]
    },
    {
      "cell_type": "code",
      "execution_count": 19,
      "metadata": {
        "id": "-gTP1w76TWD8"
      },
      "outputs": [],
      "source": [
        "x_train = x_train[train_shuffle_index]\n",
        "y_train = y_train[train_shuffle_index]"
      ]
    },
    {
      "cell_type": "code",
      "execution_count": 20,
      "metadata": {
        "id": "QbNZBtb8TWD8"
      },
      "outputs": [],
      "source": [
        "x_test = x_test[test_shuffle_index]\n",
        "y_test = y_test[test_shuffle_index]"
      ]
    },
    {
      "cell_type": "code",
      "execution_count": 21,
      "metadata": {
        "id": "fgn5B-aZTWD8"
      },
      "outputs": [],
      "source": [
        "x_train = get_email_content_bulk(x_train)\n",
        "x_test = get_email_content_bulk(x_test)"
      ]
    },
    {
      "cell_type": "code",
      "execution_count": 22,
      "metadata": {
        "id": "ppwD8f3sTWD9"
      },
      "outputs": [],
      "source": [
        "def remove_null(datas,labels):\n",
        "    not_null_idx = [i for i,o in enumerate(datas) if o is not None]\n",
        "    return np.array(datas)[not_null_idx],np.array(labels)[not_null_idx]"
      ]
    },
    {
      "cell_type": "code",
      "execution_count": 23,
      "metadata": {
        "id": "8wjauTYjTWD9"
      },
      "outputs": [],
      "source": [
        "x_train,y_train = remove_null(x_train,y_train)\n",
        "x_test,y_test = remove_null(x_test,y_test)"
      ]
    },
    {
      "cell_type": "markdown",
      "metadata": {
        "id": "eFZh357hTWD9"
      },
      "source": [
        "# Preprocessing"
      ]
    },
    {
      "cell_type": "markdown",
      "metadata": {
        "id": "vepeA_0zTWD9"
      },
      "source": [
        "## Process sentence"
      ]
    },
    {
      "cell_type": "code",
      "execution_count": 24,
      "metadata": {
        "id": "JZAnm3zkTWD-"
      },
      "outputs": [],
      "source": [
        "import re\n",
        "import string\n",
        "from nltk.tokenize import word_tokenize"
      ]
    },
    {
      "cell_type": "code",
      "execution_count": 25,
      "metadata": {
        "id": "H26jHTD5TWD-"
      },
      "outputs": [],
      "source": [
        "def remove_hyperlink(word):\n",
        "    return  re.sub(r\"http\\S+\", \"\", word)"
      ]
    },
    {
      "cell_type": "code",
      "execution_count": 26,
      "metadata": {
        "id": "qr79rBS5TWD_"
      },
      "outputs": [],
      "source": [
        "def to_lower(word):\n",
        "    result = word.lower()\n",
        "    return result"
      ]
    },
    {
      "cell_type": "code",
      "execution_count": 27,
      "metadata": {
        "id": "FFxymOvsTWD_"
      },
      "outputs": [],
      "source": [
        "def remove_number(word):\n",
        "    result = re.sub(r'\\d+', '', word)\n",
        "    return result"
      ]
    },
    {
      "cell_type": "code",
      "execution_count": 28,
      "metadata": {
        "id": "FqxmSLa7TWEA"
      },
      "outputs": [],
      "source": [
        "def remove_punctuation(word):\n",
        "    result = word.translate(str.maketrans(dict.fromkeys(string.punctuation)))\n",
        "    return result"
      ]
    },
    {
      "cell_type": "code",
      "execution_count": 29,
      "metadata": {
        "id": "1oIO1QY1TWEA"
      },
      "outputs": [],
      "source": [
        "def remove_whitespace(word):\n",
        "    result = word.strip()\n",
        "    return result"
      ]
    },
    {
      "cell_type": "code",
      "execution_count": 30,
      "metadata": {
        "id": "nM2h5-2aTWEB"
      },
      "outputs": [],
      "source": [
        "def replace_newline(word):\n",
        "    return word.replace('\\n','')"
      ]
    },
    {
      "cell_type": "code",
      "execution_count": 31,
      "metadata": {
        "id": "iSTi9TIJTWEB"
      },
      "outputs": [],
      "source": [
        "def clean_up_pipeline(sentence):\n",
        "    cleaning_utils = [remove_hyperlink,\n",
        "                      replace_newline,\n",
        "                      to_lower,\n",
        "                      remove_number,\n",
        "                      remove_punctuation,remove_whitespace]\n",
        "    for o in cleaning_utils:\n",
        "        sentence = o(sentence)\n",
        "    return sentence"
      ]
    },
    {
      "cell_type": "code",
      "execution_count": 32,
      "metadata": {
        "id": "ZCcHJ-bFTWEB"
      },
      "outputs": [],
      "source": [
        "x_train = [clean_up_pipeline(o) for o in x_train]\n",
        "x_test = [clean_up_pipeline(o) for o in x_test]"
      ]
    },
    {
      "cell_type": "markdown",
      "metadata": {
        "id": "RvRcNmylTWEC"
      },
      "source": [
        "## Process word by word"
      ]
    },
    {
      "cell_type": "code",
      "execution_count": 33,
      "metadata": {
        "id": "iNBz_An1TWEC"
      },
      "outputs": [],
      "source": [
        "from nltk.tokenize import word_tokenize\n",
        "from sklearn.feature_extraction._stop_words import ENGLISH_STOP_WORDS\n",
        "from nltk.stem import PorterStemmer\n",
        "from nltk.stem import WordNetLemmatizer"
      ]
    },
    {
      "cell_type": "code",
      "execution_count": 34,
      "metadata": {
        "colab": {
          "base_uri": "https://localhost:8080/"
        },
        "id": "b5LknTqgdMMh",
        "outputId": "8d2eb566-b7dc-4ae2-b7d4-5890ad54c53e"
      },
      "outputs": [
        {
          "output_type": "stream",
          "name": "stderr",
          "text": [
            "[nltk_data] Downloading package punkt to /root/nltk_data...\n",
            "[nltk_data]   Package punkt is already up-to-date!\n",
            "[nltk_data] Downloading package wordnet to /root/nltk_data...\n",
            "[nltk_data]   Package wordnet is already up-to-date!\n"
          ]
        },
        {
          "output_type": "execute_result",
          "data": {
            "text/plain": [
              "True"
            ]
          },
          "metadata": {},
          "execution_count": 34
        }
      ],
      "source": [
        "import nltk\n",
        "nltk.download('punkt')\n",
        "nltk.download('wordnet')"
      ]
    },
    {
      "cell_type": "code",
      "execution_count": 35,
      "metadata": {
        "id": "Nfkve_vtTWEC"
      },
      "outputs": [],
      "source": [
        "stemmer = PorterStemmer()\n",
        "lemmatizer = WordNetLemmatizer()"
      ]
    },
    {
      "cell_type": "code",
      "execution_count": 36,
      "metadata": {
        "id": "T9mzW3_2TWED"
      },
      "outputs": [],
      "source": [
        "x_train = [word_tokenize(o) for o in x_train]\n",
        "x_test = [word_tokenize(o) for o in x_test]"
      ]
    },
    {
      "cell_type": "code",
      "execution_count": 37,
      "metadata": {
        "id": "otlWOV7mTWED"
      },
      "outputs": [],
      "source": [
        "def remove_stop_words(words):\n",
        "    result = [i for i in words if i not in ENGLISH_STOP_WORDS]\n",
        "    return result"
      ]
    },
    {
      "cell_type": "code",
      "execution_count": 38,
      "metadata": {
        "id": "0gsnEfx9TWED"
      },
      "outputs": [],
      "source": [
        "def word_stemmer(words):\n",
        "    return [stemmer.stem(o) for o in words]"
      ]
    },
    {
      "cell_type": "code",
      "execution_count": 39,
      "metadata": {
        "id": "8psiG6vTTWEE"
      },
      "outputs": [],
      "source": [
        "def word_lemmatizer(words):\n",
        "    return [lemmatizer.lemmatize(o) for o in words]"
      ]
    },
    {
      "cell_type": "code",
      "execution_count": 40,
      "metadata": {
        "id": "0PrzIeMaTWEE"
      },
      "outputs": [],
      "source": [
        "def clean_token_pipeline(words):\n",
        "    cleaning_utils = [remove_stop_words,word_stemmer,word_lemmatizer]\n",
        "    for o in cleaning_utils:\n",
        "        words = o(words)\n",
        "    return words"
      ]
    },
    {
      "cell_type": "code",
      "execution_count": 41,
      "metadata": {
        "colab": {
          "base_uri": "https://localhost:8080/"
        },
        "id": "vfRVKX5KTWEE",
        "outputId": "76835da7-f44d-4e8e-ba91-e527a1d554a1"
      },
      "outputs": [
        {
          "output_type": "stream",
          "name": "stderr",
          "text": [
            "[nltk_data] Downloading package omw-1.4 to /root/nltk_data...\n",
            "[nltk_data]   Package omw-1.4 is already up-to-date!\n"
          ]
        }
      ],
      "source": [
        "nltk.download('omw-1.4')\n",
        "x_train = [clean_token_pipeline(o) for o in x_train]\n",
        "x_test = [clean_token_pipeline(o) for o in x_test]"
      ]
    },
    {
      "cell_type": "markdown",
      "metadata": {
        "id": "2Pz-5zeaTWEE"
      },
      "source": [
        "# Play around with Word2vector"
      ]
    },
    {
      "cell_type": "code",
      "execution_count": 42,
      "metadata": {
        "id": "sr9ODH77TWEF"
      },
      "outputs": [],
      "source": [
        "from gensim.models import KeyedVectors\n",
        "\n",
        "w2v = KeyedVectors.load_word2vec_format('drive/MyDrive/Temp/glove.6B.50d.word2vec.txt',binary=False)"
      ]
    },
    {
      "cell_type": "code",
      "execution_count": 43,
      "metadata": {
        "colab": {
          "base_uri": "https://localhost:8080/"
        },
        "id": "R80S99zkTWEF",
        "outputId": "02b5bfcc-0586-4a76-cd6a-0fb41c307d00"
      },
      "outputs": [
        {
          "output_type": "execute_result",
          "data": {
            "text/plain": [
              "[('prince', 0.8236179351806641),\n",
              " ('queen', 0.7839042544364929),\n",
              " ('ii', 0.7746230363845825),\n",
              " ('emperor', 0.7736247181892395),\n",
              " ('son', 0.766719400882721),\n",
              " ('uncle', 0.7627150416374207),\n",
              " ('kingdom', 0.7542160749435425),\n",
              " ('throne', 0.7539913654327393),\n",
              " ('brother', 0.7492411136627197),\n",
              " ('ruler', 0.7434253096580505)]"
            ]
          },
          "metadata": {},
          "execution_count": 43
        }
      ],
      "source": [
        "w2v.most_similar('king')"
      ]
    },
    {
      "cell_type": "code",
      "execution_count": 44,
      "metadata": {
        "colab": {
          "base_uri": "https://localhost:8080/"
        },
        "id": "GR8zRZL8TWEF",
        "outputId": "3cb19edc-1a2f-480a-d32c-5c18627d2e6e"
      },
      "outputs": [
        {
          "output_type": "execute_result",
          "data": {
            "text/plain": [
              "[('queen', 0.8523603677749634)]"
            ]
          },
          "metadata": {},
          "execution_count": 44
        }
      ],
      "source": [
        "# King + Woman - Man = ?\n",
        "w2v.most_similar(['king','woman'],negative=['man'],topn=1)"
      ]
    },
    {
      "cell_type": "code",
      "execution_count": 45,
      "metadata": {
        "colab": {
          "base_uri": "https://localhost:8080/",
          "height": 91
        },
        "id": "iE-ZLkIrTWEF",
        "outputId": "f325a2d6-4f7f-43dd-be67-0f3b50599568"
      },
      "outputs": [
        {
          "output_type": "stream",
          "name": "stderr",
          "text": [
            "/usr/local/lib/python3.8/dist-packages/gensim/models/keyedvectors.py:895: FutureWarning: arrays to stack must be passed as a \"sequence\" type such as list or tuple. Support for non-sequence iterables such as generators is deprecated as of NumPy 1.16 and will raise an error in the future.\n",
            "  vectors = vstack(self.word_vec(word, use_norm=True) for word in used_words).astype(REAL)\n"
          ]
        },
        {
          "output_type": "execute_result",
          "data": {
            "text/plain": [
              "'england'"
            ],
            "application/vnd.google.colaboratory.intrinsic+json": {
              "type": "string"
            }
          },
          "metadata": {},
          "execution_count": 45
        }
      ],
      "source": [
        "w2v.doesnt_match(\"england china vietnam laos\".split())"
      ]
    },
    {
      "cell_type": "code",
      "execution_count": 46,
      "metadata": {
        "colab": {
          "base_uri": "https://localhost:8080/",
          "height": 37
        },
        "id": "AqYfp7uKTWEF",
        "outputId": "e7eed794-5f7d-482b-e2ed-b037c7492d10"
      },
      "outputs": [
        {
          "output_type": "execute_result",
          "data": {
            "text/plain": [
              "'cat'"
            ],
            "application/vnd.google.colaboratory.intrinsic+json": {
              "type": "string"
            }
          },
          "metadata": {},
          "execution_count": 46
        }
      ],
      "source": [
        "w2v.doesnt_match(\"fish shark cat whale\".split())"
      ]
    },
    {
      "cell_type": "markdown",
      "metadata": {
        "id": "jugz00RITWEG"
      },
      "source": [
        "# Neural Network with Glove Pretrain"
      ]
    },
    {
      "cell_type": "code",
      "execution_count": 47,
      "metadata": {
        "id": "_eR_RKhGTWEG"
      },
      "outputs": [],
      "source": [
        "import matplotlib.pyplot as plt\n",
        "from keras.preprocessing.text import Tokenizer\n",
        "from keras.utils import pad_sequences\n",
        "from keras.layers import Dense, Input, LSTM, Embedding, Dropout, Activation, CuDNNGRU, Conv1D\n",
        "from keras.layers import Bidirectional, GlobalMaxPool1D\n",
        "from keras.models import Model\n",
        "from keras import initializers, regularizers, constraints, optimizers, layers"
      ]
    },
    {
      "cell_type": "code",
      "execution_count": 48,
      "metadata": {
        "id": "01Ea0JpCTWEG"
      },
      "outputs": [],
      "source": [
        "maxlen = 2000\n",
        "max_features = 50000"
      ]
    },
    {
      "cell_type": "code",
      "execution_count": 49,
      "metadata": {
        "id": "QAVy4i4oTWEG"
      },
      "outputs": [],
      "source": [
        "EMBEDDING_FILE = 'drive/MyDrive/Temp/glove.6B.50d.txt'\n",
        "tokenizer = Tokenizer(num_words=max_features)"
      ]
    },
    {
      "cell_type": "code",
      "execution_count": 50,
      "metadata": {
        "id": "M1JzoG47TWEG"
      },
      "outputs": [],
      "source": [
        "tokenizer.fit_on_texts(x_train)"
      ]
    },
    {
      "cell_type": "code",
      "execution_count": 51,
      "metadata": {
        "colab": {
          "base_uri": "https://localhost:8080/"
        },
        "id": "chlaXCwmTWEG",
        "outputId": "f30273b0-1d0e-4200-d567-8ae47c335c5b"
      },
      "outputs": [
        {
          "output_type": "stream",
          "name": "stderr",
          "text": [
            "<ipython-input-51-b4e0efae2a51>:1: VisibleDeprecationWarning: Creating an ndarray from ragged nested sequences (which is a list-or-tuple of lists-or-tuples-or ndarrays with different lengths or shapes) is deprecated. If you meant to do this, you must specify 'dtype=object' when creating the ndarray.\n",
            "  x_train_features = np.array(tokenizer.texts_to_sequences(x_train))\n",
            "<ipython-input-51-b4e0efae2a51>:2: VisibleDeprecationWarning: Creating an ndarray from ragged nested sequences (which is a list-or-tuple of lists-or-tuples-or ndarrays with different lengths or shapes) is deprecated. If you meant to do this, you must specify 'dtype=object' when creating the ndarray.\n",
            "  x_test_features = np.array(tokenizer.texts_to_sequences(x_test))\n"
          ]
        }
      ],
      "source": [
        "x_train_features = np.array(tokenizer.texts_to_sequences(x_train))\n",
        "x_test_features = np.array(tokenizer.texts_to_sequences(x_test))\n",
        "\n",
        "x_train_features = pad_sequences(x_train_features,maxlen=maxlen)\n",
        "x_test_features = pad_sequences(x_test_features,maxlen=maxlen)"
      ]
    },
    {
      "cell_type": "code",
      "execution_count": 52,
      "metadata": {
        "colab": {
          "base_uri": "https://localhost:8080/"
        },
        "id": "Z8OuCoPNTWEG",
        "outputId": "a89526a2-7eab-45e2-aead-98e6fc35724c"
      },
      "outputs": [
        {
          "output_type": "stream",
          "name": "stderr",
          "text": [
            "/usr/local/lib/python3.8/dist-packages/IPython/core/interactiveshell.py:3249: FutureWarning: arrays to stack must be passed as a \"sequence\" type such as list or tuple. Support for non-sequence iterables such as generators is deprecated as of NumPy 1.16 and will raise an error in the future.\n",
            "  if (await self.run_code(code, result,  async_=asy)):\n"
          ]
        }
      ],
      "source": [
        "def get_coefs(word,*arr): return word, np.asarray(arr, dtype='float32')\n",
        "embeddings_index = dict(get_coefs(*o.split(\" \")) for o in open(EMBEDDING_FILE))\n",
        "\n",
        "all_embs = np.stack(embeddings_index.values())\n",
        "emb_mean,emb_std = all_embs.mean(), all_embs.std()\n",
        "embed_size = all_embs.shape[1]"
      ]
    },
    {
      "cell_type": "code",
      "execution_count": 53,
      "metadata": {
        "colab": {
          "base_uri": "https://localhost:8080/"
        },
        "id": "1eUDNZxzTWEH",
        "outputId": "55282c62-38e6-4710-b71d-37b50d023fe1"
      },
      "outputs": [
        {
          "output_type": "stream",
          "name": "stdout",
          "text": [
            "Model: \"model\"\n",
            "_________________________________________________________________\n",
            " Layer (type)                Output Shape              Param #   \n",
            "=================================================================\n",
            " input_1 (InputLayer)        [(None, 2000)]            0         \n",
            "                                                                 \n",
            " embedding (Embedding)       (None, 2000, 50)          2500000   \n",
            "                                                                 \n",
            " bidirectional (Bidirectiona  (None, 2000, 128)        44544     \n",
            " l)                                                              \n",
            "                                                                 \n",
            " global_max_pooling1d (Globa  (None, 128)              0         \n",
            " lMaxPooling1D)                                                  \n",
            "                                                                 \n",
            " dense (Dense)               (None, 16)                2064      \n",
            "                                                                 \n",
            " dropout (Dropout)           (None, 16)                0         \n",
            "                                                                 \n",
            " dense_1 (Dense)             (None, 1)                 17        \n",
            "                                                                 \n",
            "=================================================================\n",
            "Total params: 2,546,625\n",
            "Trainable params: 2,546,625\n",
            "Non-trainable params: 0\n",
            "_________________________________________________________________\n",
            "None\n"
          ]
        }
      ],
      "source": [
        "word_index = tokenizer.word_index\n",
        "nb_words = min(max_features, len(word_index))\n",
        "embedding_matrix = np.random.normal(emb_mean, emb_std, (nb_words, embed_size))\n",
        "for word, i in word_index.items():\n",
        "    if i >= max_features: continue\n",
        "    embedding_vector = embeddings_index.get(word)\n",
        "    if embedding_vector is not None: embedding_matrix[i] = embedding_vector\n",
        "        \n",
        "inp = Input(shape=(maxlen,))\n",
        "x = Embedding(max_features, embed_size, weights=[embedding_matrix])(inp)\n",
        "x = Bidirectional(CuDNNGRU(64, return_sequences=True))(x)\n",
        "x = GlobalMaxPool1D()(x)\n",
        "x = Dense(16, activation=\"relu\")(x)\n",
        "x = Dropout(0.1)(x)\n",
        "x = Dense(1, activation=\"sigmoid\")(x)\n",
        "model = Model(inputs=inp, outputs=x)\n",
        "model.compile(loss='binary_crossentropy', optimizer='adam', metrics=['accuracy'])\n",
        "print(model.summary())"
      ]
    },
    {
      "cell_type": "code",
      "execution_count": 54,
      "metadata": {
        "id": "LTuApPtYTWEH"
      },
      "outputs": [],
      "source": [
        "model.layers[1].trainable = False"
      ]
    },
    {
      "cell_type": "code",
      "execution_count": 55,
      "metadata": {
        "colab": {
          "base_uri": "https://localhost:8080/"
        },
        "id": "FHTHfrzOTWEH",
        "outputId": "598851ec-006d-414c-f11b-0699860ff29f"
      },
      "outputs": [
        {
          "output_type": "stream",
          "name": "stdout",
          "text": [
            "Epoch 1/20\n",
            "10/10 [==============================] - 13s 711ms/step - loss: 0.5198 - accuracy: 0.8060 - val_loss: 0.4319 - val_accuracy: 0.8413\n",
            "Epoch 2/20\n",
            "10/10 [==============================] - 3s 342ms/step - loss: 0.4642 - accuracy: 0.8274 - val_loss: 0.4128 - val_accuracy: 0.8413\n",
            "Epoch 3/20\n",
            "10/10 [==============================] - 3s 342ms/step - loss: 0.4388 - accuracy: 0.8274 - val_loss: 0.3986 - val_accuracy: 0.8413\n",
            "Epoch 4/20\n",
            "10/10 [==============================] - 3s 343ms/step - loss: 0.4140 - accuracy: 0.8276 - val_loss: 0.3699 - val_accuracy: 0.8413\n",
            "Epoch 5/20\n",
            "10/10 [==============================] - 3s 342ms/step - loss: 0.3839 - accuracy: 0.8274 - val_loss: 0.3393 - val_accuracy: 0.8413\n",
            "Epoch 6/20\n",
            "10/10 [==============================] - 3s 344ms/step - loss: 0.3476 - accuracy: 0.8279 - val_loss: 0.2936 - val_accuracy: 0.8453\n",
            "Epoch 7/20\n",
            "10/10 [==============================] - 3s 343ms/step - loss: 0.2963 - accuracy: 0.8294 - val_loss: 0.2386 - val_accuracy: 0.8453\n",
            "Epoch 8/20\n",
            "10/10 [==============================] - 3s 343ms/step - loss: 0.2445 - accuracy: 0.8304 - val_loss: 0.2018 - val_accuracy: 0.8453\n",
            "Epoch 9/20\n",
            "10/10 [==============================] - 4s 391ms/step - loss: 0.2053 - accuracy: 0.8343 - val_loss: 0.1747 - val_accuracy: 0.8881\n",
            "Epoch 10/20\n",
            "10/10 [==============================] - 4s 412ms/step - loss: 0.1587 - accuracy: 0.9347 - val_loss: 0.1166 - val_accuracy: 0.9631\n",
            "Epoch 11/20\n",
            "10/10 [==============================] - 4s 368ms/step - loss: 0.1053 - accuracy: 0.9704 - val_loss: 0.0857 - val_accuracy: 0.9697\n",
            "Epoch 12/20\n",
            "10/10 [==============================] - 3s 344ms/step - loss: 0.0740 - accuracy: 0.9772 - val_loss: 0.0803 - val_accuracy: 0.9717\n",
            "Epoch 13/20\n",
            "10/10 [==============================] - 3s 345ms/step - loss: 0.0552 - accuracy: 0.9833 - val_loss: 0.0713 - val_accuracy: 0.9763\n",
            "Epoch 14/20\n",
            "10/10 [==============================] - 3s 344ms/step - loss: 0.0430 - accuracy: 0.9910 - val_loss: 0.0665 - val_accuracy: 0.9789\n",
            "Epoch 15/20\n",
            "10/10 [==============================] - 3s 344ms/step - loss: 0.0359 - accuracy: 0.9918 - val_loss: 0.0596 - val_accuracy: 0.9803\n",
            "Epoch 16/20\n",
            "10/10 [==============================] - 3s 343ms/step - loss: 0.0304 - accuracy: 0.9914 - val_loss: 0.0595 - val_accuracy: 0.9816\n",
            "Epoch 17/20\n",
            "10/10 [==============================] - 3s 344ms/step - loss: 0.0230 - accuracy: 0.9940 - val_loss: 0.0618 - val_accuracy: 0.9803\n",
            "Epoch 18/20\n",
            "10/10 [==============================] - 3s 346ms/step - loss: 0.0188 - accuracy: 0.9955 - val_loss: 0.0667 - val_accuracy: 0.9809\n",
            "Epoch 19/20\n",
            "10/10 [==============================] - 3s 346ms/step - loss: 0.0211 - accuracy: 0.9946 - val_loss: 0.0660 - val_accuracy: 0.9809\n",
            "Epoch 20/20\n",
            "10/10 [==============================] - 3s 347ms/step - loss: 0.0189 - accuracy: 0.9961 - val_loss: 0.0557 - val_accuracy: 0.9842\n"
          ]
        }
      ],
      "source": [
        "history = model.fit(x_train_features,y_train, batch_size=512, epochs=20, \n",
        "          validation_data=(x_test_features, y_test))"
      ]
    },
    {
      "cell_type": "code",
      "execution_count": 56,
      "metadata": {
        "colab": {
          "base_uri": "https://localhost:8080/",
          "height": 295
        },
        "id": "GzUE6wgZTWEH",
        "outputId": "0ef89203-5b7e-47e4-dc1c-57c36e48be63"
      },
      "outputs": [
        {
          "output_type": "display_data",
          "data": {
            "text/plain": [
              "<Figure size 432x288 with 1 Axes>"
            ],
            "image/png": "[encoded data removed]"
          },
          "metadata": {
            "needs_background": "light"
          }
        }
      ],
      "source": [
        "plt.plot(history.history['accuracy'])\n",
        "plt.plot(history.history['val_accuracy'])\n",
        "plt.title('model accuracy')\n",
        "plt.ylabel('accuracy')\n",
        "plt.xlabel('epoch')\n",
        "plt.legend(['train', 'test'], loc='upper left')\n",
        "plt.show()"
      ]
    },
    {
      "cell_type": "markdown",
      "metadata": {
        "id": "o2e_hPEhTWEH"
      },
      "source": [
        "# Neural Network w Embedding From Scratch"
      ]
    },
    {
      "cell_type": "code",
      "execution_count": 57,
      "metadata": {
        "id": "RwNGcwAeTWEH"
      },
      "outputs": [],
      "source": [
        "from keras.layers import Dense, Input, LSTM, Embedding, Dropout, Activation, CuDNNGRU, Conv1D\n",
        "from keras.layers import Bidirectional, GlobalMaxPool1D\n",
        "from keras.models import Model\n",
        "from keras import initializers, regularizers, constraints, optimizers, layers\n",
        "from keras.preprocessing.text import Tokenizer\n",
        "from keras.utils import pad_sequences"
      ]
    },
    {
      "cell_type": "code",
      "execution_count": 58,
      "metadata": {
        "id": "qLMEkgyqTWEH"
      },
      "outputs": [],
      "source": [
        "## some config values \n",
        "embed_size = 100 # how big is each word vector\n",
        "max_feature = 50000 # how many unique words to use (i.e num rows in embedding vector)\n",
        "max_len = 2000 # max number of words in a question to use"
      ]
    },
    {
      "cell_type": "code",
      "execution_count": 59,
      "metadata": {
        "id": "FhRCORRQTWEI"
      },
      "outputs": [],
      "source": [
        "tokenizer = Tokenizer(num_words=max_feature)"
      ]
    },
    {
      "cell_type": "code",
      "execution_count": 60,
      "metadata": {
        "id": "yM8Pz1QHTWEI"
      },
      "outputs": [],
      "source": [
        "tokenizer.fit_on_texts(x_train)"
      ]
    },
    {
      "cell_type": "code",
      "execution_count": 61,
      "metadata": {
        "colab": {
          "base_uri": "https://localhost:8080/"
        },
        "id": "VNL84L7wTWEI",
        "outputId": "e7f76377-ee44-4aac-9ee6-3ddcd3925f70"
      },
      "outputs": [
        {
          "output_type": "stream",
          "name": "stderr",
          "text": [
            "<ipython-input-61-36c5aa8705fb>:1: VisibleDeprecationWarning: Creating an ndarray from ragged nested sequences (which is a list-or-tuple of lists-or-tuples-or ndarrays with different lengths or shapes) is deprecated. If you meant to do this, you must specify 'dtype=object' when creating the ndarray.\n",
            "  x_train_features = np.array(tokenizer.texts_to_sequences(x_train))\n",
            "<ipython-input-61-36c5aa8705fb>:2: VisibleDeprecationWarning: Creating an ndarray from ragged nested sequences (which is a list-or-tuple of lists-or-tuples-or ndarrays with different lengths or shapes) is deprecated. If you meant to do this, you must specify 'dtype=object' when creating the ndarray.\n",
            "  x_test_features = np.array(tokenizer.texts_to_sequences(x_test))\n"
          ]
        }
      ],
      "source": [
        "x_train_features = np.array(tokenizer.texts_to_sequences(x_train))\n",
        "x_test_features = np.array(tokenizer.texts_to_sequences(x_test))"
      ]
    },
    {
      "cell_type": "code",
      "execution_count": 62,
      "metadata": {
        "id": "M6LljfpVTWEI"
      },
      "outputs": [],
      "source": [
        "x_train_features = pad_sequences(x_train_features,maxlen=max_len)\n",
        "x_test_features = pad_sequences(x_test_features,maxlen=max_len)"
      ]
    },
    {
      "cell_type": "code",
      "execution_count": 63,
      "metadata": {
        "colab": {
          "base_uri": "https://localhost:8080/"
        },
        "id": "4pjY-_g5TWEI",
        "outputId": "a66a7ede-fb91-4fe4-a1de-5dca6c2dc53b"
      },
      "outputs": [
        {
          "output_type": "stream",
          "name": "stdout",
          "text": [
            "Model: \"model_1\"\n",
            "_________________________________________________________________\n",
            " Layer (type)                Output Shape              Param #   \n",
            "=================================================================\n",
            " input_2 (InputLayer)        [(None, 2000)]            0         \n",
            "                                                                 \n",
            " embedding_1 (Embedding)     (None, 2000, 100)         5000000   \n",
            "                                                                 \n",
            " bidirectional_1 (Bidirectio  (None, 2000, 128)        63744     \n",
            " nal)                                                            \n",
            "                                                                 \n",
            " global_max_pooling1d_1 (Glo  (None, 128)              0         \n",
            " balMaxPooling1D)                                                \n",
            "                                                                 \n",
            " dense_2 (Dense)             (None, 16)                2064      \n",
            "                                                                 \n",
            " dropout_1 (Dropout)         (None, 16)                0         \n",
            "                                                                 \n",
            " dense_3 (Dense)             (None, 1)                 17        \n",
            "                                                                 \n",
            "=================================================================\n",
            "Total params: 5,065,825\n",
            "Trainable params: 5,065,825\n",
            "Non-trainable params: 0\n",
            "_________________________________________________________________\n",
            "None\n"
          ]
        }
      ],
      "source": [
        "embed_size = 100\n",
        "\n",
        "inp = Input(shape=(max_len,))\n",
        "x = Embedding(max_feature, embed_size)(inp)\n",
        "x = Bidirectional(CuDNNGRU(64, return_sequences=True))(x)\n",
        "x = GlobalMaxPool1D()(x)\n",
        "x = Dense(16, activation=\"relu\")(x)\n",
        "x = Dropout(0.1)(x)\n",
        "x = Dense(1, activation=\"sigmoid\")(x)\n",
        "model = Model(inputs=inp, outputs=x)\n",
        "model.compile(loss='binary_crossentropy', optimizer='adam', metrics=['accuracy'])\n",
        "\n",
        "print(model.summary())"
      ]
    },
    {
      "cell_type": "code",
      "execution_count": 64,
      "metadata": {
        "colab": {
          "base_uri": "https://localhost:8080/"
        },
        "id": "Gqh8JlaFTWEI",
        "outputId": "a4b39fa8-b213-4850-ff37-5846569e97c0"
      },
      "outputs": [
        {
          "output_type": "stream",
          "name": "stdout",
          "text": [
            "Epoch 1/20\n",
            "10/10 [==============================] - 30s 774ms/step - loss: 0.6162 - accuracy: 0.7912 - val_loss: 0.5087 - val_accuracy: 0.8413\n",
            "Epoch 2/20\n",
            "10/10 [==============================] - 4s 424ms/step - loss: 0.4695 - accuracy: 0.8274 - val_loss: 0.4200 - val_accuracy: 0.8413\n",
            "Epoch 3/20\n",
            "10/10 [==============================] - 4s 397ms/step - loss: 0.4336 - accuracy: 0.8274 - val_loss: 0.3900 - val_accuracy: 0.8413\n",
            "Epoch 4/20\n",
            "10/10 [==============================] - 4s 394ms/step - loss: 0.3888 - accuracy: 0.8274 - val_loss: 0.3450 - val_accuracy: 0.8413\n",
            "Epoch 5/20\n",
            "10/10 [==============================] - 4s 411ms/step - loss: 0.3198 - accuracy: 0.8274 - val_loss: 0.2531 - val_accuracy: 0.8413\n",
            "Epoch 6/20\n",
            "10/10 [==============================] - 4s 416ms/step - loss: 0.1958 - accuracy: 0.8369 - val_loss: 0.1626 - val_accuracy: 0.9487\n",
            "Epoch 7/20\n",
            "10/10 [==============================] - 4s 398ms/step - loss: 0.3559 - accuracy: 0.9114 - val_loss: 0.1572 - val_accuracy: 0.9697\n",
            "Epoch 8/20\n",
            "10/10 [==============================] - 4s 398ms/step - loss: 0.1161 - accuracy: 0.9790 - val_loss: 0.0764 - val_accuracy: 0.9835\n",
            "Epoch 9/20\n",
            "10/10 [==============================] - 4s 395ms/step - loss: 0.0585 - accuracy: 0.9942 - val_loss: 0.0549 - val_accuracy: 0.9868\n",
            "Epoch 10/20\n",
            "10/10 [==============================] - 4s 396ms/step - loss: 0.0332 - accuracy: 0.9972 - val_loss: 0.0418 - val_accuracy: 0.9868\n",
            "Epoch 11/20\n",
            "10/10 [==============================] - 4s 397ms/step - loss: 0.0186 - accuracy: 0.9976 - val_loss: 0.0351 - val_accuracy: 0.9888\n",
            "Epoch 12/20\n",
            "10/10 [==============================] - 4s 397ms/step - loss: 0.0113 - accuracy: 0.9985 - val_loss: 0.0367 - val_accuracy: 0.9882\n",
            "Epoch 13/20\n",
            "10/10 [==============================] - 4s 398ms/step - loss: 0.0081 - accuracy: 0.9991 - val_loss: 0.0340 - val_accuracy: 0.9901\n",
            "Epoch 14/20\n",
            "10/10 [==============================] - 4s 397ms/step - loss: 0.0065 - accuracy: 0.9994 - val_loss: 0.0352 - val_accuracy: 0.9901\n",
            "Epoch 15/20\n",
            "10/10 [==============================] - 4s 397ms/step - loss: 0.0053 - accuracy: 0.9994 - val_loss: 0.0369 - val_accuracy: 0.9901\n",
            "Epoch 16/20\n",
            "10/10 [==============================] - 4s 399ms/step - loss: 0.0047 - accuracy: 0.9994 - val_loss: 0.0368 - val_accuracy: 0.9901\n",
            "Epoch 17/20\n",
            "10/10 [==============================] - 4s 428ms/step - loss: 0.0045 - accuracy: 0.9989 - val_loss: 0.0392 - val_accuracy: 0.9882\n",
            "Epoch 18/20\n",
            "10/10 [==============================] - 4s 426ms/step - loss: 0.0039 - accuracy: 0.9994 - val_loss: 0.0427 - val_accuracy: 0.9895\n",
            "Epoch 19/20\n",
            "10/10 [==============================] - 4s 400ms/step - loss: 0.0039 - accuracy: 0.9991 - val_loss: 0.0404 - val_accuracy: 0.9895\n",
            "Epoch 20/20\n",
            "10/10 [==============================] - 4s 403ms/step - loss: 0.0038 - accuracy: 0.9991 - val_loss: 0.0433 - val_accuracy: 0.9895\n"
          ]
        }
      ],
      "source": [
        "history = model.fit(x_train_features, y_train, batch_size=512, epochs=20, validation_data=(x_test_features, y_test))"
      ]
    },
    {
      "cell_type": "code",
      "execution_count": 78,
      "metadata": {
        "id": "qRKRzTOjTWEI",
        "colab": {
          "base_uri": "https://localhost:8080/",
          "height": 295
        },
        "outputId": "15f5add8-b827-4e4c-81fa-9c79b37d63ff"
      },
      "outputs": [
        {
          "output_type": "display_data",
          "data": {
            "text/plain": [
              "<Figure size 432x288 with 1 Axes>"
            ],
            "image/png": "[encoded data removed]"
          },
          "metadata": {
            "needs_background": "light"
          }
        }
      ],
      "source": [
        "plt.plot(history.history['accuracy'])\n",
        "plt.plot(history.history['val_accuracy'])\n",
        "plt.title('model accuracy')\n",
        "plt.ylabel('accuracy')\n",
        "plt.xlabel('epoch')\n",
        "plt.legend(['train', 'test'], loc='upper left')\n",
        "plt.show()"
      ]
    },
    {
      "cell_type": "markdown",
      "metadata": {
        "id": "9Q-9ujDYTWEI"
      },
      "source": [
        "## Neural Network"
      ]
    },
    {
      "cell_type": "code",
      "execution_count": 66,
      "metadata": {
        "id": "2u42QXl_TWEI"
      },
      "outputs": [],
      "source": [
        "from sklearn.metrics import confusion_matrix,f1_score, precision_score,recall_score"
      ]
    },
    {
      "cell_type": "code",
      "execution_count": 67,
      "metadata": {
        "id": "oO83Mwt5TWEJ",
        "colab": {
          "base_uri": "https://localhost:8080/"
        },
        "outputId": "1842dea7-35ca-45cf-adf0-72444cb72675"
      },
      "outputs": [
        {
          "output_type": "stream",
          "name": "stdout",
          "text": [
            "48/48 [==============================] - 3s 52ms/step\n"
          ]
        }
      ],
      "source": [
        "y_predict  = [1 if o>0.5 else 0 for o in model.predict(x_test_features)]"
      ]
    },
    {
      "cell_type": "code",
      "execution_count": 68,
      "metadata": {
        "id": "PurkXZdDTWEJ",
        "colab": {
          "base_uri": "https://localhost:8080/"
        },
        "outputId": "eb5cdad4-cf2d-4b18-8ec0-1c8f774904e2"
      },
      "outputs": [
        {
          "output_type": "execute_result",
          "data": {
            "text/plain": [
              "array([[1273,    5],\n",
              "       [  11,  230]])"
            ]
          },
          "metadata": {},
          "execution_count": 68
        }
      ],
      "source": [
        "confusion_matrix(y_test,y_predict)"
      ]
    },
    {
      "cell_type": "code",
      "execution_count": 69,
      "metadata": {
        "id": "mXBzBbTLTWEJ"
      },
      "outputs": [],
      "source": [
        "tn, fp, fn, tp = confusion_matrix(y_test,y_predict).ravel()"
      ]
    },
    {
      "cell_type": "code",
      "execution_count": 70,
      "metadata": {
        "id": "xCfTvpeXTWEJ",
        "colab": {
          "base_uri": "https://localhost:8080/"
        },
        "outputId": "56a20520-ee8e-4e43-dede-e45eb7a1cc41"
      },
      "outputs": [
        {
          "output_type": "stream",
          "name": "stdout",
          "text": [
            "Precision: 97.87%\n",
            "Recall: 95.44%\n"
          ]
        }
      ],
      "source": [
        "print(\"Precision: {:.2f}%\".format(100 * precision_score(y_test, y_predict)))\n",
        "print(\"Recall: {:.2f}%\".format(100 * recall_score(y_test, y_predict)))"
      ]
    },
    {
      "cell_type": "code",
      "execution_count": 71,
      "metadata": {
        "id": "FXrTOFz-TWEJ",
        "colab": {
          "base_uri": "https://localhost:8080/"
        },
        "outputId": "a1213ea5-19fd-4fb9-9683-d3ecbd65ed97"
      },
      "outputs": [
        {
          "output_type": "execute_result",
          "data": {
            "text/plain": [
              "0.9663865546218487"
            ]
          },
          "metadata": {},
          "execution_count": 71
        }
      ],
      "source": [
        "f1_score(y_test,y_predict)"
      ]
    },
    {
      "cell_type": "code",
      "execution_count": 72,
      "metadata": {
        "id": "DYmQJgG-TWEJ",
        "colab": {
          "base_uri": "https://localhost:8080/"
        },
        "outputId": "b698f503-66ac-437e-fb84-cf23a56f0922"
      },
      "outputs": [
        {
          "output_type": "execute_result",
          "data": {
            "text/plain": [
              "0.9663865546218487"
            ]
          },
          "metadata": {},
          "execution_count": 72
        }
      ],
      "source": [
        "f1_score(y_test,y_predict)"
      ]
    },
    {
      "cell_type": "markdown",
      "metadata": {
        "id": "Vs9tFPhcTWEJ"
      },
      "source": [
        "## Error Analysis\n",
        "\n",
        "### Plot confusion matrix"
      ]
    },
    {
      "cell_type": "code",
      "execution_count": 74,
      "metadata": {
        "id": "ts7-ExiATWEJ"
      },
      "outputs": [],
      "source": [
        "import matplotlib.pyplot as plt\n",
        "from sklearn.metrics import confusion_matrix\n",
        "import itertools\n",
        "\n",
        "cnf_matrix = confusion_matrix(y_test,y_predict)\n",
        "\n",
        "def plot_confusion_matrix(cm, classes,\n",
        "                          normalize=False,\n",
        "                          title='Confusion matrix',\n",
        "                          cmap=plt.cm.Blues):\n",
        "    \"\"\"\n",
        "    This function prints and plots the confusion matrix.\n",
        "    Normalization can be applied by setting `normalize=True`.\n",
        "    \"\"\"\n",
        "    if normalize:\n",
        "        cm = cm.astype('float') / cm.sum(axis=1)[:, np.newaxis]\n",
        "        print(\"Normalized confusion matrix\")\n",
        "    else:\n",
        "        print('Confusion matrix, without normalization')\n",
        "\n",
        "    print(cm)\n",
        "\n",
        "    plt.imshow(cm, interpolation='nearest', cmap=cmap)\n",
        "    plt.title(title)\n",
        "    plt.colorbar()\n",
        "    tick_marks = np.arange(len(classes))\n",
        "    plt.xticks(tick_marks, classes, rotation=45)\n",
        "    plt.yticks(tick_marks, classes)\n",
        "\n",
        "    fmt = '.2f' if normalize else 'd'\n",
        "    thresh = cm.max() / 2.\n",
        "    for i, j in itertools.product(range(cm.shape[0]), range(cm.shape[1])):\n",
        "        plt.text(j, i, format(cm[i, j], fmt),\n",
        "                 horizontalalignment=\"center\",\n",
        "                 color=\"white\" if cm[i, j] > thresh else \"black\")\n",
        "\n",
        "    plt.ylabel('True label')\n",
        "    plt.xlabel('Predicted label')\n",
        "    plt.tight_layout()"
      ]
    },
    {
      "cell_type": "markdown",
      "metadata": {
        "id": "7o21xGj8TWEJ"
      },
      "source": [
        "# Plot normalized confusion matrix"
      ]
    },
    {
      "cell_type": "code",
      "execution_count": 75,
      "metadata": {
        "id": "i3BjXb2vTWEK",
        "colab": {
          "base_uri": "https://localhost:8080/",
          "height": 348
        },
        "outputId": "477514c9-08d0-43c3-e028-89cc07e3e57d"
      },
      "outputs": [
        {
          "output_type": "stream",
          "name": "stdout",
          "text": [
            "Confusion matrix, without normalization\n",
            "[[1273    5]\n",
            " [  11  230]]\n"
          ]
        },
        {
          "output_type": "display_data",
          "data": {
            "text/plain": [
              "<Figure size 432x288 with 2 Axes>"
            ],
            "image/png": "[encoded data removed]"
          },
          "metadata": {
            "needs_background": "light"
          }
        }
      ],
      "source": [
        "plt.figure()\n",
        "plot_confusion_matrix(cnf_matrix, classes=['Non Spam','Spam'], normalize=False,\n",
        "                      title='Confusion matrix')"
      ]
    }
  ],
  "metadata": {
    "accelerator": "GPU",
    "colab": {
      "collapsed_sections": [
        "vepeA_0zTWD9"
      ],
      "provenance": []
    },
    "gpuClass": "standard",
    "kernelspec": {
      "display_name": "Python 3 (ipykernel)",
      "language": "python",
      "name": "python3"
    },
    "language_info": {
      "codemirror_mode": {
        "name": "ipython",
        "version": 3
      },
      "file_extension": ".py",
      "mimetype": "text/x-python",
      "name": "python",
      "nbconvert_exporter": "python",
      "pygments_lexer": "ipython3",
      "version": "3.10.6"
    }
  },
  "nbformat": 4,
  "nbformat_minor": 0
}